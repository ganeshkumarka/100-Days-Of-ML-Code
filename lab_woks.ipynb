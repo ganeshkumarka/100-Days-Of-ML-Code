{
  "cells": [
    {
      "cell_type": "markdown",
      "metadata": {
        "id": "view-in-github",
        "colab_type": "text"
      },
      "source": [
        "<a href=\"https://colab.research.google.com/github/ganeshkumarka/100-Days-Of-ML-Code/blob/master/lab_woks.ipynb\" target=\"_parent\"><img src=\"https://colab.research.google.com/assets/colab-badge.svg\" alt=\"Open In Colab\"/></a>"
      ]
    },
    {
      "cell_type": "code",
      "source": [
        "def bisect(function : str, a : int, b : int, Epsilon : float) -> float :\n",
        "    if function(a) * function(b) >= 0:\n",
        "        return None\n",
        "    c = None\n",
        "    while ((b-a) >= Epsilon):\n",
        "        c = (a + b) / 2\n",
        "        if function(c) == 0.0:\n",
        "            break\n",
        "        if function(c) * function(a) < 0:\n",
        "            b = c\n",
        "        else:\n",
        "            a = c\n",
        "    return c\n",
        "\n",
        "\n",
        "def main():\n",
        "    function = input(\"Enter the function in terms of x: \")\n",
        "    a = int(input(\"Enter the value of a: \"))\n",
        "    b = int(input(\"Enter the value of b: \"))\n",
        "    Epsilon = float(input(\"Enter the value of ε: \"))\n",
        "    func = lambda x: eval(function)\n",
        "    root = bisect(func, a, b, Epsilon)\n",
        "    if root is not None:\n",
        "        print(\"The value of root is : \", \"%.4f\"%root)\n",
        "    else:\n",
        "        print(\"Can't find root in given interval\")\n",
        "\n",
        "if __name__ == \"__main__\":\n",
        "    main()"
      ],
      "metadata": {
        "colab": {
          "base_uri": "https://localhost:8080/"
        },
        "id": "-hb5Rxip0cMd",
        "outputId": "1c6508bc-9b14-4680-8248-baef30081fd5"
      },
      "execution_count": null,
      "outputs": [
        {
          "output_type": "stream",
          "name": "stdout",
          "text": [
            "Enter the function in terms of x: x**3-4*x-9\n",
            "Enter the value of a: 2\n",
            "Enter the value of b: 3\n",
            "Enter the value of ε: 0.00005\n",
            "The value of root is :  2.7065\n"
          ]
        }
      ]
    },
    {
      "cell_type": "code",
      "source": [
        "#regular falsi or false position method\n",
        "def regular_falsi(function : str, a : int, b : int, Epsilon : float) -> float :\n",
        "    if function(a) * function(b) >= 0:\n",
        "        return None\n",
        "    c = None\n",
        "    while ((b-a) >= Epsilon):\n",
        "        c = (a*function(b)-b*function(a))/function(b)-function(a)\n",
        "        if function(c) == 0.0:\n",
        "            break\n",
        "        if function(c) * function(a) < 0:\n",
        "            b = c\n",
        "        else:\n",
        "            a = c\n",
        "    return c\n",
        "\n",
        "\n",
        "def main():\n",
        "    function = input(\"Enter the function in terms of x: \")\n",
        "    a = int(input(\"Enter the value of a: \"))\n",
        "    b = int(input(\"Enter the value of b: \"))\n",
        "    Epsilon = float(input(\"Enter the value of ε: \"))\n",
        "    func = lambda x: eval(function)\n",
        "    root = bisect(func, a, b, Epsilon)\n",
        "    if root is not None:\n",
        "        print(\"The value of root is : \", \"%.4f\"%root)\n",
        "    else:\n",
        "        print(\"Can't find root in given interval\")\n",
        "\n",
        "if __name__ == \"__main__\":\n",
        "    main()"
      ],
      "metadata": {
        "colab": {
          "base_uri": "https://localhost:8080/"
        },
        "id": "pJMfprP82mgU",
        "outputId": "e632878b-336d-4561-893a-ebe1b53ef697"
      },
      "execution_count": null,
      "outputs": [
        {
          "output_type": "stream",
          "name": "stdout",
          "text": [
            "Enter the function in terms of x: x**3-4*x-9\n",
            "Enter the value of a: 2\n",
            "Enter the value of b: 3\n",
            "Enter the value of ε: 0.00005\n",
            "The value of root is :  2.7065\n"
          ]
        }
      ]
    },
    {
      "cell_type": "code",
      "source": [
        "#newton raphson method\n",
        "\n",
        "def newton_raphson(f, df, x0, tol=1e-6, max_iter=100):\n",
        "   x=x0\n",
        "   for i in range(max_iter):\n",
        "        x_new = x - f(x) / df(x)\n",
        "\n",
        "        if abs(x_new - x) < tol:\n",
        "            return x_new, i+1\n",
        "\n",
        "        x = x_new\n",
        "\n",
        "if __name__ == \"__main__\":\n",
        "\n",
        "    def f(x):\n",
        "        #return x**2 - 4\n",
        "        return x**6-x-1\n",
        "\n",
        "    def df(x):\n",
        "        return 6*x**5-1\n",
        "\n",
        "    x0 = 2.0\n",
        "    root,num_iter = newton_raphson(f,df,x0)\n",
        "    print(root)\n",
        "    print(num_iter)\n"
      ],
      "metadata": {
        "colab": {
          "base_uri": "https://localhost:8080/"
        },
        "id": "PcRWz1RabvG_",
        "outputId": "ee0c9d95-31f7-4a01-8162-e47303b008de"
      },
      "execution_count": null,
      "outputs": [
        {
          "output_type": "stream",
          "name": "stdout",
          "text": [
            "1.1347241384015194\n",
            "8\n"
          ]
        }
      ]
    },
    {
      "cell_type": "code",
      "source": [
        "def fn(x):\n",
        "  return x**3-13*x-12\n",
        "\n",
        "def Muller(x0, x1, x2, iter):\n",
        "  icount=0\n",
        "  for i in range(0, iter):\n",
        "\n",
        "    f0=fn(x0)\n",
        "    f1=fn(x1)\n",
        "    f2=fn(x2)\n",
        "\n",
        "    h0=x1-x0\n",
        "    h1=x2-x1\n",
        "\n",
        "    d0=(f1-f0)/(x1-x0)\n",
        "    d1=(f2-f1)/(x2-x1)\n",
        "\n",
        "    a=(d1-d0)/(h0+h1)\n",
        "    b=a*h1+d1\n",
        "    c=f2\n",
        "\n",
        "    d=((b**2)-(4*a*c))**0.5\n",
        "    r1=b+d\n",
        "    r2=b-d\n",
        "\n",
        "    if r1>r2:\n",
        "      r=r1\n",
        "    elif r2>r1:\n",
        "      r=r2\n",
        "\n",
        "    x3=x2-((2*c)/r)\n",
        "    E=((x3-x2)/x3)*100\n",
        "    icount=icount+1\n",
        "\n",
        "    print(\"x0 = \",x0)\n",
        "    print(\"x1 = \",x1)\n",
        "    print(\"x2 = \",x2)\n",
        "    print(\"The resultant x3 = \",x3)\n",
        "    print(\"Error = \", abs(E))\n",
        "    print(\"Iteration: \", icount)\n",
        "    print(\"\")\n",
        "\n",
        "    x0=x1\n",
        "    x1=x2\n",
        "    x2=x3\n",
        "\n",
        "\n",
        "iter=5\n",
        "x0=4.5\n",
        "x1=5.5\n",
        "x2=5\n",
        "\n",
        "Muller(x0, x1, x2, iter)\n"
      ],
      "metadata": {
        "colab": {
          "base_uri": "https://localhost:8080/"
        },
        "id": "ZDESu2SNrmOC",
        "outputId": "226f2fba-0c9d-4682-a95a-ad771448f229"
      },
      "execution_count": null,
      "outputs": [
        {
          "output_type": "stream",
          "name": "stdout",
          "text": [
            "x0 =  4.5\n",
            "x1 =  5.5\n",
            "x2 =  5\n",
            "The resultant x3 =  3.9764870422406546\n",
            "Error =  25.739124681835264\n",
            "Iteration:  1\n",
            "\n",
            "x0 =  5.5\n",
            "x1 =  5\n",
            "x2 =  3.9764870422406546\n",
            "The resultant x3 =  4.001050498815179\n",
            "Error =  0.6139251824439106\n",
            "Iteration:  2\n",
            "\n",
            "x0 =  5\n",
            "x1 =  3.9764870422406546\n",
            "x2 =  4.001050498815179\n",
            "The resultant x3 =  4.000000705270523\n",
            "Error =  0.026244833988969093\n",
            "Iteration:  3\n",
            "\n",
            "x0 =  3.9764870422406546\n",
            "x1 =  4.001050498815179\n",
            "x2 =  4.000000705270523\n",
            "The resultant x3 =  4.000000000000497\n",
            "Error =  1.7631750637290306e-05\n",
            "Iteration:  4\n",
            "\n",
            "x0 =  4.001050498815179\n",
            "x1 =  4.000000705270523\n",
            "x2 =  4.000000000000497\n",
            "The resultant x3 =  4.0\n",
            "Error =  1.2434497875801753e-11\n",
            "Iteration:  5\n",
            "\n"
          ]
        }
      ]
    },
    {
      "cell_type": "code",
      "source": [
        "def gauss_elimination(A, b):\n",
        "    n = len(A)\n",
        "\n",
        "    for i in range(n):\n",
        "        max_row = i\n",
        "        for k in range(i+1, n):\n",
        "            if abs(A[k][i]) > abs(A[max_row][i]):\n",
        "                max_row = k\n",
        "        A[i], A[max_row] = A[max_row], A[i]\n",
        "        b[i], b[max_row] = b[max_row], b[i]\n",
        "\n",
        "        for k in range(i+1, n):\n",
        "            factor = A[k][i] / A[i][i]\n",
        "            for j in range(i, n):\n",
        "                A[k][j] -= factor * A[i][j]\n",
        "            b[k] -= factor * b[i]\n",
        "\n",
        "    x = [0] * n\n",
        "    for i in range(n-1, -1, -1):\n",
        "        x[i] = b[i] / A[i][i]\n",
        "        for k in range(i-1, -1, -1):\n",
        "            b[k] -= A[k][i] * x[i]\n",
        "\n",
        "    return x\n",
        "\n",
        "def input_matrix(rows, cols):\n",
        "    matrix = []\n",
        "    print(\"Enter the elements of the matrix:\")\n",
        "    for i in range(rows):\n",
        "        row = []\n",
        "        for j in range(cols):\n",
        "            element = float(input(f\"Enter element at position ({i+1},{j+1}): \"))\n",
        "            row.append(element)\n",
        "        matrix.append(row)\n",
        "    return matrix\n",
        "\n",
        "\n",
        "rows = int(input(\"Enter the number of rows for matrix A: \"))\n",
        "cols = int(input(\"Enter the number of columns for matrix A: \"))\n",
        "\n",
        "print(\"For matrix A:\")\n",
        "A = input_matrix(rows, cols)\n",
        "\n",
        "\n",
        "b = []\n",
        "print(\"Enter the elements of the vector b:\")\n",
        "for i in range(rows):\n",
        "    element = float(input(f\"Enter element {i+1}: \"))\n",
        "    b.append(element)\n",
        "\n",
        "# Apply Gaussian elimination\n",
        "solution = gauss_elimination(A, b)\n",
        "\n",
        "# Output the solution\n",
        "print(\"\\nThe solution is:\")\n",
        "for i in range(len(solution)):\n",
        "    print(f\"x{i+1} = {solution[i]}\")\n"
      ],
      "metadata": {
        "id": "E_LP3896oKw5",
        "outputId": "465eb4c4-5b33-417f-a9b1-acce4e954c8e",
        "colab": {
          "base_uri": "https://localhost:8080/"
        }
      },
      "execution_count": null,
      "outputs": [
        {
          "output_type": "stream",
          "name": "stdout",
          "text": [
            "Enter the number of rows for matrix A: 3\n",
            "Enter the number of columns for matrix A: 3\n",
            "For matrix A:\n",
            "Enter the elements of the matrix:\n",
            "Enter element at position (1,1): 1\n",
            "Enter element at position (1,2): -1\n",
            "Enter element at position (1,3): 1\n",
            "Enter element at position (2,1): -6\n",
            "Enter element at position (2,2): 1\n",
            "Enter element at position (2,3): -1\n",
            "Enter element at position (3,1): 3\n",
            "Enter element at position (3,2): 1\n",
            "Enter element at position (3,3): 1\n",
            "Enter the elements of the vector b:\n",
            "Enter element 1: 2\n",
            "Enter element 2: 3\n",
            "Enter element 3: 4\n",
            "\n",
            "The solution is:\n",
            "x1 = -1.0\n",
            "x2 = 2.0\n",
            "x3 = 5.0\n"
          ]
        }
      ]
    },
    {
      "cell_type": "code",
      "source": [
        "#guass siedal method\n",
        "import numpy as np\n",
        "\n",
        "def gauss_seidel(A, b, x0=None, tol=0.5, max_iter=100):\n",
        "\n",
        "    n = len(b)\n",
        "\n",
        "    # Initialize solution vector\n",
        "    if x0 is None:\n",
        "        x0 = np.zeros(n)\n",
        "\n",
        "    # Iterate until convergence or max iterations reached\n",
        "    x = x0.copy()\n",
        "    for iter_count in range(max_iter):\n",
        "        x_old = x.copy()\n",
        "        for i in range(n):\n",
        "            x[i] = (b[i] - np.dot(A[i, :i], x[:i]) - np.dot(A[i, i+1:], x_old[i+1:])) / A[i, i]\n",
        "\n",
        "        # Check for convergence\n",
        "        if np.linalg.norm(x - x_old) < tol:\n",
        "            break\n",
        "\n",
        "    return x, iter_count + 1\n",
        "\n",
        "# Example usage:\n",
        "A = np.array([[3,0.1,-0.2],\n",
        "              [0.1,7,-0.3],\n",
        "              [0.3,-0.2,10]\n",
        "              ], dtype=float)\n",
        "b = np.array([7.85,-19.3,71.4], dtype=float)\n",
        "\n",
        "x, iterations = gauss_seidel(A, b)\n",
        "print(\"Solution:\", x)\n",
        "print(\"Number of iterations:\", iterations)\n"
      ],
      "metadata": {
        "colab": {
          "base_uri": "https://localhost:8080/"
        },
        "id": "_6WLgmFntCbh",
        "outputId": "f5459106-8ec9-413d-b9b4-f7b25659f1e7"
      },
      "execution_count": null,
      "outputs": [
        {
          "output_type": "stream",
          "name": "stdout",
          "text": [
            "Solution: [ 3.16638611 -2.50260629  6.99495629]\n",
            "Number of iterations: 3\n"
          ]
        }
      ]
    },
    {
      "cell_type": "code",
      "source": [
        "#gauss jordan\n",
        "def gauss_jordan(A, b):\n",
        "\n",
        "    n = len(A)\n",
        "    augmented_matrix = [row + [bi] for row, bi in zip(A, b)]\n",
        "\n",
        "    for i in range(n):\n",
        "        pivot_row = max(range(i, n), key=lambda k: abs(augmented_matrix[k][i]))\n",
        "        augmented_matrix[i], augmented_matrix[pivot_row] = augmented_matrix[pivot_row], augmented_matrix[i]\n",
        "\n",
        "        pivot_value = augmented_matrix[i][i]\n",
        "        for j in range(i, n + 1):\n",
        "            augmented_matrix[i][j] /= pivot_value\n",
        "\n",
        "        for k in range(n):\n",
        "            if k != i:\n",
        "                factor = augmented_matrix[k][i]\n",
        "                for j in range(i, n + 1):\n",
        "                    augmented_matrix[k][j] -= factor * augmented_matrix[i][j]\n",
        "\n",
        "    x = [row[-1] for row in augmented_matrix]\n",
        "\n",
        "    return x\n",
        "\n",
        "\n",
        "def main():\n",
        "    A = [[3, -0.1, -0.2], [0.1, 7, -0.3], [0.3, -0.2, 10]]\n",
        "    b = [7.85, -19.3, 71.4]\n",
        "\n",
        "    solution = gauss_jordan(A, b)\n",
        "    for i, xi in enumerate(solution):\n",
        "        print(f\"x{i+1} = {round(xi, 4)}\")\n",
        "\n",
        "\n",
        "if __name__ == \"__main__\":\n",
        "    main()"
      ],
      "metadata": {
        "colab": {
          "base_uri": "https://localhost:8080/"
        },
        "id": "kWqQKjI2upy_",
        "outputId": "d49be3fe-0b1a-40ce-dfcb-c89a04f8483f"
      },
      "execution_count": null,
      "outputs": [
        {
          "output_type": "stream",
          "name": "stdout",
          "text": [
            "x1 = 3.0\n",
            "x2 = -2.5\n",
            "x3 = 7.0\n"
          ]
        }
      ]
    }
  ],
  "metadata": {
    "colab": {
      "provenance": [],
      "toc_visible": true,
      "authorship_tag": "ABX9TyObEOqwXnxOsVpJLg3oeZqh",
      "include_colab_link": true
    },
    "kernelspec": {
      "display_name": "Python 3",
      "name": "python3"
    },
    "language_info": {
      "name": "python"
    }
  },
  "nbformat": 4,
  "nbformat_minor": 0
}